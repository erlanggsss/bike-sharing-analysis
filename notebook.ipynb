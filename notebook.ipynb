{
  "cells": [
    {
      "cell_type": "markdown",
      "metadata": {
        "id": "H9wADwK78DCz"
      },
      "source": [
        "# **Proyek Analisis Data: Bike Sharing Dataset**\n",
        "- **Nama:** Muhammad Erlangga Prasetya\n",
        "- **Email:** 2110631170078@student.unsika.ac.id\n",
        "- **ID Dicoding:** erlanggs"
      ]
    },
    {
      "cell_type": "markdown",
      "metadata": {
        "id": "eE0raob58DC0"
      },
      "source": [
        "## **Menentukan Pertanyaan Bisnis**"
      ]
    },
    {
      "cell_type": "markdown",
      "metadata": {
        "id": "GmQeQ5YF8DC0"
      },
      "source": [
        "- Bagaimana pengaruh faktor cuaca terhadap jumlah pengguna bike sharing?\n",
        "- Pada jam berapa penggunaan bike sharing paling tinggi dalam sehari?\n",
        "- Bagaimana tren penggunaan bike sharing berdasarkan hari dalam seminggu?\n",
        "- Apakah terdapat perbedaan penggunaan bike sharing pada musim panas dibandingkan musim dingin?\n"
      ]
    },
    {
      "cell_type": "markdown",
      "metadata": {
        "id": "H-z4QGlO8DC1"
      },
      "source": [
        "## **Import Library**"
      ]
    },
    {
      "cell_type": "code",
      "execution_count": 204,
      "metadata": {
        "id": "FVYwaObI8DC1"
      },
      "outputs": [],
      "source": [
        "# Mengimport semua library yang dibutuhkan\n",
        "\n",
        "import pandas as pd\n",
        "import numpy as np\n",
        "import matplotlib.pyplot as plt\n",
        "import seaborn as sns\n",
        "import warnings\n",
        "warnings.filterwarnings(\"ignore\")"
      ]
    },
    {
      "cell_type": "markdown",
      "metadata": {
        "id": "h_Sh51Xy8DC1"
      },
      "source": [
        "## **Data Wrangling**"
      ]
    },
    {
      "cell_type": "markdown",
      "metadata": {
        "id": "sXU2GBYu8DC1"
      },
      "source": [
        "### **Gathering Data**"
      ]
    },
    {
      "cell_type": "code",
      "execution_count": 205,
      "metadata": {
        "id": "zjCBk1BI8DC1"
      },
      "outputs": [],
      "source": [
        "# Memuat dataset day.csv dan hour.csv\n",
        "d_df = pd.read_csv(\"day.csv\")\n",
        "h_df = pd.read_csv(\"hour.csv\")"
      ]
    },
    {
      "cell_type": "code",
      "source": [
        "# Memuat tabel day\n",
        "d_df.head()\n",
        "h_df.head()"
      ],
      "metadata": {
        "id": "z83bKpapNAqf",
        "colab": {
          "base_uri": "https://localhost:8080/",
          "height": 313
        },
        "outputId": "0bf39414-da9f-4ae9-ce8f-8863e98bd296"
      },
      "execution_count": 206,
      "outputs": [
        {
          "output_type": "execute_result",
          "data": {
            "text/plain": [
              "   instant      dteday  season  yr  mnth  hr  holiday  weekday  workingday  \\\n",
              "0        1  2011-01-01       1   0     1   0        0        6           0   \n",
              "1        2  2011-01-01       1   0     1   1        0        6           0   \n",
              "2        3  2011-01-01       1   0     1   2        0        6           0   \n",
              "3        4  2011-01-01       1   0     1   3        0        6           0   \n",
              "4        5  2011-01-01       1   0     1   4        0        6           0   \n",
              "\n",
              "   weathersit  temp   atemp   hum  windspeed  casual  registered  cnt  \n",
              "0           1  0.24  0.2879  0.81        0.0       3          13   16  \n",
              "1           1  0.22  0.2727  0.80        0.0       8          32   40  \n",
              "2           1  0.22  0.2727  0.80        0.0       5          27   32  \n",
              "3           1  0.24  0.2879  0.75        0.0       3          10   13  \n",
              "4           1  0.24  0.2879  0.75        0.0       0           1    1  "
            ],
            "text/html": [
              "\n",
              "  <div id=\"df-5196b2fc-cce0-451e-8b45-b59c327ba136\" class=\"colab-df-container\">\n",
              "    <div>\n",
              "<style scoped>\n",
              "    .dataframe tbody tr th:only-of-type {\n",
              "        vertical-align: middle;\n",
              "    }\n",
              "\n",
              "    .dataframe tbody tr th {\n",
              "        vertical-align: top;\n",
              "    }\n",
              "\n",
              "    .dataframe thead th {\n",
              "        text-align: right;\n",
              "    }\n",
              "</style>\n",
              "<table border=\"1\" class=\"dataframe\">\n",
              "  <thead>\n",
              "    <tr style=\"text-align: right;\">\n",
              "      <th></th>\n",
              "      <th>instant</th>\n",
              "      <th>dteday</th>\n",
              "      <th>season</th>\n",
              "      <th>yr</th>\n",
              "      <th>mnth</th>\n",
              "      <th>hr</th>\n",
              "      <th>holiday</th>\n",
              "      <th>weekday</th>\n",
              "      <th>workingday</th>\n",
              "      <th>weathersit</th>\n",
              "      <th>temp</th>\n",
              "      <th>atemp</th>\n",
              "      <th>hum</th>\n",
              "      <th>windspeed</th>\n",
              "      <th>casual</th>\n",
              "      <th>registered</th>\n",
              "      <th>cnt</th>\n",
              "    </tr>\n",
              "  </thead>\n",
              "  <tbody>\n",
              "    <tr>\n",
              "      <th>0</th>\n",
              "      <td>1</td>\n",
              "      <td>2011-01-01</td>\n",
              "      <td>1</td>\n",
              "      <td>0</td>\n",
              "      <td>1</td>\n",
              "      <td>0</td>\n",
              "      <td>0</td>\n",
              "      <td>6</td>\n",
              "      <td>0</td>\n",
              "      <td>1</td>\n",
              "      <td>0.24</td>\n",
              "      <td>0.2879</td>\n",
              "      <td>0.81</td>\n",
              "      <td>0.0</td>\n",
              "      <td>3</td>\n",
              "      <td>13</td>\n",
              "      <td>16</td>\n",
              "    </tr>\n",
              "    <tr>\n",
              "      <th>1</th>\n",
              "      <td>2</td>\n",
              "      <td>2011-01-01</td>\n",
              "      <td>1</td>\n",
              "      <td>0</td>\n",
              "      <td>1</td>\n",
              "      <td>1</td>\n",
              "      <td>0</td>\n",
              "      <td>6</td>\n",
              "      <td>0</td>\n",
              "      <td>1</td>\n",
              "      <td>0.22</td>\n",
              "      <td>0.2727</td>\n",
              "      <td>0.80</td>\n",
              "      <td>0.0</td>\n",
              "      <td>8</td>\n",
              "      <td>32</td>\n",
              "      <td>40</td>\n",
              "    </tr>\n",
              "    <tr>\n",
              "      <th>2</th>\n",
              "      <td>3</td>\n",
              "      <td>2011-01-01</td>\n",
              "      <td>1</td>\n",
              "      <td>0</td>\n",
              "      <td>1</td>\n",
              "      <td>2</td>\n",
              "      <td>0</td>\n",
              "      <td>6</td>\n",
              "      <td>0</td>\n",
              "      <td>1</td>\n",
              "      <td>0.22</td>\n",
              "      <td>0.2727</td>\n",
              "      <td>0.80</td>\n",
              "      <td>0.0</td>\n",
              "      <td>5</td>\n",
              "      <td>27</td>\n",
              "      <td>32</td>\n",
              "    </tr>\n",
              "    <tr>\n",
              "      <th>3</th>\n",
              "      <td>4</td>\n",
              "      <td>2011-01-01</td>\n",
              "      <td>1</td>\n",
              "      <td>0</td>\n",
              "      <td>1</td>\n",
              "      <td>3</td>\n",
              "      <td>0</td>\n",
              "      <td>6</td>\n",
              "      <td>0</td>\n",
              "      <td>1</td>\n",
              "      <td>0.24</td>\n",
              "      <td>0.2879</td>\n",
              "      <td>0.75</td>\n",
              "      <td>0.0</td>\n",
              "      <td>3</td>\n",
              "      <td>10</td>\n",
              "      <td>13</td>\n",
              "    </tr>\n",
              "    <tr>\n",
              "      <th>4</th>\n",
              "      <td>5</td>\n",
              "      <td>2011-01-01</td>\n",
              "      <td>1</td>\n",
              "      <td>0</td>\n",
              "      <td>1</td>\n",
              "      <td>4</td>\n",
              "      <td>0</td>\n",
              "      <td>6</td>\n",
              "      <td>0</td>\n",
              "      <td>1</td>\n",
              "      <td>0.24</td>\n",
              "      <td>0.2879</td>\n",
              "      <td>0.75</td>\n",
              "      <td>0.0</td>\n",
              "      <td>0</td>\n",
              "      <td>1</td>\n",
              "      <td>1</td>\n",
              "    </tr>\n",
              "  </tbody>\n",
              "</table>\n",
              "</div>\n",
              "    <div class=\"colab-df-buttons\">\n",
              "\n",
              "  <div class=\"colab-df-container\">\n",
              "    <button class=\"colab-df-convert\" onclick=\"convertToInteractive('df-5196b2fc-cce0-451e-8b45-b59c327ba136')\"\n",
              "            title=\"Convert this dataframe to an interactive table.\"\n",
              "            style=\"display:none;\">\n",
              "\n",
              "  <svg xmlns=\"http://www.w3.org/2000/svg\" height=\"24px\" viewBox=\"0 -960 960 960\">\n",
              "    <path d=\"M120-120v-720h720v720H120Zm60-500h600v-160H180v160Zm220 220h160v-160H400v160Zm0 220h160v-160H400v160ZM180-400h160v-160H180v160Zm440 0h160v-160H620v160ZM180-180h160v-160H180v160Zm440 0h160v-160H620v160Z\"/>\n",
              "  </svg>\n",
              "    </button>\n",
              "\n",
              "  <style>\n",
              "    .colab-df-container {\n",
              "      display:flex;\n",
              "      gap: 12px;\n",
              "    }\n",
              "\n",
              "    .colab-df-convert {\n",
              "      background-color: #E8F0FE;\n",
              "      border: none;\n",
              "      border-radius: 50%;\n",
              "      cursor: pointer;\n",
              "      display: none;\n",
              "      fill: #1967D2;\n",
              "      height: 32px;\n",
              "      padding: 0 0 0 0;\n",
              "      width: 32px;\n",
              "    }\n",
              "\n",
              "    .colab-df-convert:hover {\n",
              "      background-color: #E2EBFA;\n",
              "      box-shadow: 0px 1px 2px rgba(60, 64, 67, 0.3), 0px 1px 3px 1px rgba(60, 64, 67, 0.15);\n",
              "      fill: #174EA6;\n",
              "    }\n",
              "\n",
              "    .colab-df-buttons div {\n",
              "      margin-bottom: 4px;\n",
              "    }\n",
              "\n",
              "    [theme=dark] .colab-df-convert {\n",
              "      background-color: #3B4455;\n",
              "      fill: #D2E3FC;\n",
              "    }\n",
              "\n",
              "    [theme=dark] .colab-df-convert:hover {\n",
              "      background-color: #434B5C;\n",
              "      box-shadow: 0px 1px 3px 1px rgba(0, 0, 0, 0.15);\n",
              "      filter: drop-shadow(0px 1px 2px rgba(0, 0, 0, 0.3));\n",
              "      fill: #FFFFFF;\n",
              "    }\n",
              "  </style>\n",
              "\n",
              "    <script>\n",
              "      const buttonEl =\n",
              "        document.querySelector('#df-5196b2fc-cce0-451e-8b45-b59c327ba136 button.colab-df-convert');\n",
              "      buttonEl.style.display =\n",
              "        google.colab.kernel.accessAllowed ? 'block' : 'none';\n",
              "\n",
              "      async function convertToInteractive(key) {\n",
              "        const element = document.querySelector('#df-5196b2fc-cce0-451e-8b45-b59c327ba136');\n",
              "        const dataTable =\n",
              "          await google.colab.kernel.invokeFunction('convertToInteractive',\n",
              "                                                    [key], {});\n",
              "        if (!dataTable) return;\n",
              "\n",
              "        const docLinkHtml = 'Like what you see? Visit the ' +\n",
              "          '<a target=\"_blank\" href=https://colab.research.google.com/notebooks/data_table.ipynb>data table notebook</a>'\n",
              "          + ' to learn more about interactive tables.';\n",
              "        element.innerHTML = '';\n",
              "        dataTable['output_type'] = 'display_data';\n",
              "        await google.colab.output.renderOutput(dataTable, element);\n",
              "        const docLink = document.createElement('div');\n",
              "        docLink.innerHTML = docLinkHtml;\n",
              "        element.appendChild(docLink);\n",
              "      }\n",
              "    </script>\n",
              "  </div>\n",
              "\n",
              "\n",
              "<div id=\"df-c1b761e2-58f6-4983-b2e6-af42eb4cf9ba\">\n",
              "  <button class=\"colab-df-quickchart\" onclick=\"quickchart('df-c1b761e2-58f6-4983-b2e6-af42eb4cf9ba')\"\n",
              "            title=\"Suggest charts\"\n",
              "            style=\"display:none;\">\n",
              "\n",
              "<svg xmlns=\"http://www.w3.org/2000/svg\" height=\"24px\"viewBox=\"0 0 24 24\"\n",
              "     width=\"24px\">\n",
              "    <g>\n",
              "        <path d=\"M19 3H5c-1.1 0-2 .9-2 2v14c0 1.1.9 2 2 2h14c1.1 0 2-.9 2-2V5c0-1.1-.9-2-2-2zM9 17H7v-7h2v7zm4 0h-2V7h2v10zm4 0h-2v-4h2v4z\"/>\n",
              "    </g>\n",
              "</svg>\n",
              "  </button>\n",
              "\n",
              "<style>\n",
              "  .colab-df-quickchart {\n",
              "      --bg-color: #E8F0FE;\n",
              "      --fill-color: #1967D2;\n",
              "      --hover-bg-color: #E2EBFA;\n",
              "      --hover-fill-color: #174EA6;\n",
              "      --disabled-fill-color: #AAA;\n",
              "      --disabled-bg-color: #DDD;\n",
              "  }\n",
              "\n",
              "  [theme=dark] .colab-df-quickchart {\n",
              "      --bg-color: #3B4455;\n",
              "      --fill-color: #D2E3FC;\n",
              "      --hover-bg-color: #434B5C;\n",
              "      --hover-fill-color: #FFFFFF;\n",
              "      --disabled-bg-color: #3B4455;\n",
              "      --disabled-fill-color: #666;\n",
              "  }\n",
              "\n",
              "  .colab-df-quickchart {\n",
              "    background-color: var(--bg-color);\n",
              "    border: none;\n",
              "    border-radius: 50%;\n",
              "    cursor: pointer;\n",
              "    display: none;\n",
              "    fill: var(--fill-color);\n",
              "    height: 32px;\n",
              "    padding: 0;\n",
              "    width: 32px;\n",
              "  }\n",
              "\n",
              "  .colab-df-quickchart:hover {\n",
              "    background-color: var(--hover-bg-color);\n",
              "    box-shadow: 0 1px 2px rgba(60, 64, 67, 0.3), 0 1px 3px 1px rgba(60, 64, 67, 0.15);\n",
              "    fill: var(--button-hover-fill-color);\n",
              "  }\n",
              "\n",
              "  .colab-df-quickchart-complete:disabled,\n",
              "  .colab-df-quickchart-complete:disabled:hover {\n",
              "    background-color: var(--disabled-bg-color);\n",
              "    fill: var(--disabled-fill-color);\n",
              "    box-shadow: none;\n",
              "  }\n",
              "\n",
              "  .colab-df-spinner {\n",
              "    border: 2px solid var(--fill-color);\n",
              "    border-color: transparent;\n",
              "    border-bottom-color: var(--fill-color);\n",
              "    animation:\n",
              "      spin 1s steps(1) infinite;\n",
              "  }\n",
              "\n",
              "  @keyframes spin {\n",
              "    0% {\n",
              "      border-color: transparent;\n",
              "      border-bottom-color: var(--fill-color);\n",
              "      border-left-color: var(--fill-color);\n",
              "    }\n",
              "    20% {\n",
              "      border-color: transparent;\n",
              "      border-left-color: var(--fill-color);\n",
              "      border-top-color: var(--fill-color);\n",
              "    }\n",
              "    30% {\n",
              "      border-color: transparent;\n",
              "      border-left-color: var(--fill-color);\n",
              "      border-top-color: var(--fill-color);\n",
              "      border-right-color: var(--fill-color);\n",
              "    }\n",
              "    40% {\n",
              "      border-color: transparent;\n",
              "      border-right-color: var(--fill-color);\n",
              "      border-top-color: var(--fill-color);\n",
              "    }\n",
              "    60% {\n",
              "      border-color: transparent;\n",
              "      border-right-color: var(--fill-color);\n",
              "    }\n",
              "    80% {\n",
              "      border-color: transparent;\n",
              "      border-right-color: var(--fill-color);\n",
              "      border-bottom-color: var(--fill-color);\n",
              "    }\n",
              "    90% {\n",
              "      border-color: transparent;\n",
              "      border-bottom-color: var(--fill-color);\n",
              "    }\n",
              "  }\n",
              "</style>\n",
              "\n",
              "  <script>\n",
              "    async function quickchart(key) {\n",
              "      const quickchartButtonEl =\n",
              "        document.querySelector('#' + key + ' button');\n",
              "      quickchartButtonEl.disabled = true;  // To prevent multiple clicks.\n",
              "      quickchartButtonEl.classList.add('colab-df-spinner');\n",
              "      try {\n",
              "        const charts = await google.colab.kernel.invokeFunction(\n",
              "            'suggestCharts', [key], {});\n",
              "      } catch (error) {\n",
              "        console.error('Error during call to suggestCharts:', error);\n",
              "      }\n",
              "      quickchartButtonEl.classList.remove('colab-df-spinner');\n",
              "      quickchartButtonEl.classList.add('colab-df-quickchart-complete');\n",
              "    }\n",
              "    (() => {\n",
              "      let quickchartButtonEl =\n",
              "        document.querySelector('#df-c1b761e2-58f6-4983-b2e6-af42eb4cf9ba button');\n",
              "      quickchartButtonEl.style.display =\n",
              "        google.colab.kernel.accessAllowed ? 'block' : 'none';\n",
              "    })();\n",
              "  </script>\n",
              "</div>\n",
              "\n",
              "    </div>\n",
              "  </div>\n"
            ],
            "application/vnd.google.colaboratory.intrinsic+json": {
              "type": "dataframe",
              "variable_name": "h_df",
              "summary": "{\n  \"name\": \"h_df\",\n  \"rows\": 17379,\n  \"fields\": [\n    {\n      \"column\": \"instant\",\n      \"properties\": {\n        \"dtype\": \"number\",\n        \"std\": 5017,\n        \"min\": 1,\n        \"max\": 17379,\n        \"num_unique_values\": 17379,\n        \"samples\": [\n          12831,\n          8689,\n          7092\n        ],\n        \"semantic_type\": \"\",\n        \"description\": \"\"\n      }\n    },\n    {\n      \"column\": \"dteday\",\n      \"properties\": {\n        \"dtype\": \"object\",\n        \"num_unique_values\": 731,\n        \"samples\": [\n          \"2012-12-04\",\n          \"2011-02-03\",\n          \"2011-10-28\"\n        ],\n        \"semantic_type\": \"\",\n        \"description\": \"\"\n      }\n    },\n    {\n      \"column\": \"season\",\n      \"properties\": {\n        \"dtype\": \"number\",\n        \"std\": 1,\n        \"min\": 1,\n        \"max\": 4,\n        \"num_unique_values\": 4,\n        \"samples\": [\n          2,\n          4,\n          1\n        ],\n        \"semantic_type\": \"\",\n        \"description\": \"\"\n      }\n    },\n    {\n      \"column\": \"yr\",\n      \"properties\": {\n        \"dtype\": \"number\",\n        \"std\": 0,\n        \"min\": 0,\n        \"max\": 1,\n        \"num_unique_values\": 2,\n        \"samples\": [\n          1,\n          0\n        ],\n        \"semantic_type\": \"\",\n        \"description\": \"\"\n      }\n    },\n    {\n      \"column\": \"mnth\",\n      \"properties\": {\n        \"dtype\": \"number\",\n        \"std\": 3,\n        \"min\": 1,\n        \"max\": 12,\n        \"num_unique_values\": 12,\n        \"samples\": [\n          11,\n          10\n        ],\n        \"semantic_type\": \"\",\n        \"description\": \"\"\n      }\n    },\n    {\n      \"column\": \"hr\",\n      \"properties\": {\n        \"dtype\": \"number\",\n        \"std\": 6,\n        \"min\": 0,\n        \"max\": 23,\n        \"num_unique_values\": 24,\n        \"samples\": [\n          8,\n          16\n        ],\n        \"semantic_type\": \"\",\n        \"description\": \"\"\n      }\n    },\n    {\n      \"column\": \"holiday\",\n      \"properties\": {\n        \"dtype\": \"number\",\n        \"std\": 0,\n        \"min\": 0,\n        \"max\": 1,\n        \"num_unique_values\": 2,\n        \"samples\": [\n          1,\n          0\n        ],\n        \"semantic_type\": \"\",\n        \"description\": \"\"\n      }\n    },\n    {\n      \"column\": \"weekday\",\n      \"properties\": {\n        \"dtype\": \"number\",\n        \"std\": 2,\n        \"min\": 0,\n        \"max\": 6,\n        \"num_unique_values\": 7,\n        \"samples\": [\n          6,\n          0\n        ],\n        \"semantic_type\": \"\",\n        \"description\": \"\"\n      }\n    },\n    {\n      \"column\": \"workingday\",\n      \"properties\": {\n        \"dtype\": \"number\",\n        \"std\": 0,\n        \"min\": 0,\n        \"max\": 1,\n        \"num_unique_values\": 2,\n        \"samples\": [\n          1,\n          0\n        ],\n        \"semantic_type\": \"\",\n        \"description\": \"\"\n      }\n    },\n    {\n      \"column\": \"weathersit\",\n      \"properties\": {\n        \"dtype\": \"number\",\n        \"std\": 0,\n        \"min\": 1,\n        \"max\": 4,\n        \"num_unique_values\": 4,\n        \"samples\": [\n          2,\n          4\n        ],\n        \"semantic_type\": \"\",\n        \"description\": \"\"\n      }\n    },\n    {\n      \"column\": \"temp\",\n      \"properties\": {\n        \"dtype\": \"number\",\n        \"std\": 0.19255612124972407,\n        \"min\": 0.02,\n        \"max\": 1.0,\n        \"num_unique_values\": 50,\n        \"samples\": [\n          0.16,\n          0.82\n        ],\n        \"semantic_type\": \"\",\n        \"description\": \"\"\n      }\n    },\n    {\n      \"column\": \"atemp\",\n      \"properties\": {\n        \"dtype\": \"number\",\n        \"std\": 0.17185021563536587,\n        \"min\": 0.0,\n        \"max\": 1.0,\n        \"num_unique_values\": 65,\n        \"samples\": [\n          0.7879,\n          0.9242\n        ],\n        \"semantic_type\": \"\",\n        \"description\": \"\"\n      }\n    },\n    {\n      \"column\": \"hum\",\n      \"properties\": {\n        \"dtype\": \"number\",\n        \"std\": 0.1929298340629125,\n        \"min\": 0.0,\n        \"max\": 1.0,\n        \"num_unique_values\": 89,\n        \"samples\": [\n          0.29,\n          0.61\n        ],\n        \"semantic_type\": \"\",\n        \"description\": \"\"\n      }\n    },\n    {\n      \"column\": \"windspeed\",\n      \"properties\": {\n        \"dtype\": \"number\",\n        \"std\": 0.12234022857279413,\n        \"min\": 0.0,\n        \"max\": 0.8507,\n        \"num_unique_values\": 30,\n        \"samples\": [\n          0.8507,\n          0.4925\n        ],\n        \"semantic_type\": \"\",\n        \"description\": \"\"\n      }\n    },\n    {\n      \"column\": \"casual\",\n      \"properties\": {\n        \"dtype\": \"number\",\n        \"std\": 49,\n        \"min\": 0,\n        \"max\": 367,\n        \"num_unique_values\": 322,\n        \"samples\": [\n          201,\n          171\n        ],\n        \"semantic_type\": \"\",\n        \"description\": \"\"\n      }\n    },\n    {\n      \"column\": \"registered\",\n      \"properties\": {\n        \"dtype\": \"number\",\n        \"std\": 151,\n        \"min\": 0,\n        \"max\": 886,\n        \"num_unique_values\": 776,\n        \"samples\": [\n          342,\n          744\n        ],\n        \"semantic_type\": \"\",\n        \"description\": \"\"\n      }\n    },\n    {\n      \"column\": \"cnt\",\n      \"properties\": {\n        \"dtype\": \"number\",\n        \"std\": 181,\n        \"min\": 1,\n        \"max\": 977,\n        \"num_unique_values\": 869,\n        \"samples\": [\n          594,\n          46\n        ],\n        \"semantic_type\": \"\",\n        \"description\": \"\"\n      }\n    }\n  ]\n}"
            }
          },
          "metadata": {},
          "execution_count": 206
        }
      ]
    },
    {
      "cell_type": "markdown",
      "metadata": {
        "id": "FHSiqaZp8DC1"
      },
      "source": [
        "### **Assessing Data**"
      ]
    },
    {
      "cell_type": "code",
      "source": [
        "# Memeriksa tipe data data dari tiap kolom yang terdapat dalam hour_df dan day_df.\n",
        "h_df.info()\n",
        "d_df.info()"
      ],
      "metadata": {
        "id": "ax-3tEjc9Cj1",
        "colab": {
          "base_uri": "https://localhost:8080/"
        },
        "outputId": "b072c64b-8a64-4318-c5d0-a927049d5c1c"
      },
      "execution_count": 207,
      "outputs": [
        {
          "output_type": "stream",
          "name": "stdout",
          "text": [
            "<class 'pandas.core.frame.DataFrame'>\n",
            "RangeIndex: 17379 entries, 0 to 17378\n",
            "Data columns (total 17 columns):\n",
            " #   Column      Non-Null Count  Dtype  \n",
            "---  ------      --------------  -----  \n",
            " 0   instant     17379 non-null  int64  \n",
            " 1   dteday      17379 non-null  object \n",
            " 2   season      17379 non-null  int64  \n",
            " 3   yr          17379 non-null  int64  \n",
            " 4   mnth        17379 non-null  int64  \n",
            " 5   hr          17379 non-null  int64  \n",
            " 6   holiday     17379 non-null  int64  \n",
            " 7   weekday     17379 non-null  int64  \n",
            " 8   workingday  17379 non-null  int64  \n",
            " 9   weathersit  17379 non-null  int64  \n",
            " 10  temp        17379 non-null  float64\n",
            " 11  atemp       17379 non-null  float64\n",
            " 12  hum         17379 non-null  float64\n",
            " 13  windspeed   17379 non-null  float64\n",
            " 14  casual      17379 non-null  int64  \n",
            " 15  registered  17379 non-null  int64  \n",
            " 16  cnt         17379 non-null  int64  \n",
            "dtypes: float64(4), int64(12), object(1)\n",
            "memory usage: 2.3+ MB\n",
            "<class 'pandas.core.frame.DataFrame'>\n",
            "RangeIndex: 731 entries, 0 to 730\n",
            "Data columns (total 16 columns):\n",
            " #   Column      Non-Null Count  Dtype  \n",
            "---  ------      --------------  -----  \n",
            " 0   instant     731 non-null    int64  \n",
            " 1   dteday      731 non-null    object \n",
            " 2   season      731 non-null    int64  \n",
            " 3   yr          731 non-null    int64  \n",
            " 4   mnth        731 non-null    int64  \n",
            " 5   holiday     731 non-null    int64  \n",
            " 6   weekday     731 non-null    int64  \n",
            " 7   workingday  731 non-null    int64  \n",
            " 8   weathersit  731 non-null    int64  \n",
            " 9   temp        731 non-null    float64\n",
            " 10  atemp       731 non-null    float64\n",
            " 11  hum         731 non-null    float64\n",
            " 12  windspeed   731 non-null    float64\n",
            " 13  casual      731 non-null    int64  \n",
            " 14  registered  731 non-null    int64  \n",
            " 15  cnt         731 non-null    int64  \n",
            "dtypes: float64(4), int64(11), object(1)\n",
            "memory usage: 91.5+ KB\n"
          ]
        }
      ]
    },
    {
      "cell_type": "markdown",
      "source": [
        "Dataset h_df memiliki 17 kolom dengan 17.379 baris, sedangkan d_df memiliki 10 kolom dengan 731 baris. Kolom ini memiliki berbagai tipe data seperti integer, float, dan object. Informasi ini memberikan gambaran awal tentang struktur data dataset yang digunakan."
      ],
      "metadata": {
        "id": "95pYhRgbcDNn"
      }
    },
    {
      "cell_type": "code",
      "source": [
        "# Mengecek missing value\n",
        "print(\"Missing values pada h_df:\\n\", h_df.isna().sum())\n",
        "print(\"Missing values pada d_df:\\n\", d_df.isna().sum())"
      ],
      "metadata": {
        "id": "aT8cRu70NMl7",
        "colab": {
          "base_uri": "https://localhost:8080/"
        },
        "outputId": "56729542-3ddb-4362-814e-3b608908e4d2"
      },
      "execution_count": 208,
      "outputs": [
        {
          "output_type": "stream",
          "name": "stdout",
          "text": [
            "Missing values pada h_df:\n",
            " instant       0\n",
            "dteday        0\n",
            "season        0\n",
            "yr            0\n",
            "mnth          0\n",
            "hr            0\n",
            "holiday       0\n",
            "weekday       0\n",
            "workingday    0\n",
            "weathersit    0\n",
            "temp          0\n",
            "atemp         0\n",
            "hum           0\n",
            "windspeed     0\n",
            "casual        0\n",
            "registered    0\n",
            "cnt           0\n",
            "dtype: int64\n",
            "Missing values pada d_df:\n",
            " instant       0\n",
            "dteday        0\n",
            "season        0\n",
            "yr            0\n",
            "mnth          0\n",
            "holiday       0\n",
            "weekday       0\n",
            "workingday    0\n",
            "weathersit    0\n",
            "temp          0\n",
            "atemp         0\n",
            "hum           0\n",
            "windspeed     0\n",
            "casual        0\n",
            "registered    0\n",
            "cnt           0\n",
            "dtype: int64\n"
          ]
        }
      ]
    },
    {
      "cell_type": "markdown",
      "source": [
        "Hasil pengecekan missing value menunjukkan bahwa tidak ada nilai yang hilang maupun duplikasi, yang artinya data cukup bersih untuk langsung dianalisis."
      ],
      "metadata": {
        "id": "M92Zq4aucOdd"
      }
    },
    {
      "cell_type": "code",
      "source": [
        "# Memeriksa duplikasi\n",
        "print(\"Jumlah duplikasi: \", h_df.duplicated().sum())\n",
        "print(\"Jumlah duplikasi: \", d_df.duplicated().sum())"
      ],
      "metadata": {
        "id": "pdVyrveLNefy",
        "colab": {
          "base_uri": "https://localhost:8080/"
        },
        "outputId": "7c0fe5cd-d0f6-4db5-b227-15450b78844f"
      },
      "execution_count": 209,
      "outputs": [
        {
          "output_type": "stream",
          "name": "stdout",
          "text": [
            "Jumlah duplikasi:  0\n",
            "Jumlah duplikasi:  0\n"
          ]
        }
      ]
    },
    {
      "cell_type": "markdown",
      "metadata": {
        "id": "EhN5R4hr8DC1"
      },
      "source": [
        "### Cleaning Data"
      ]
    },
    {
      "cell_type": "code",
      "source": [
        "# Menghapus kolom instant dan workingday\n",
        "h_df.drop(['instant', 'workingday'], axis=1, inplace=True)\n",
        "d_df.drop(['instant', 'workingday'], axis=1, inplace=True)"
      ],
      "metadata": {
        "id": "jVnYpprE9Evz"
      },
      "execution_count": 210,
      "outputs": []
    },
    {
      "cell_type": "markdown",
      "source": [
        " Menghapus kolom instant dan workingday karena tidak relevan untuk analisis ini."
      ],
      "metadata": {
        "id": "X77_cYY5dhLp"
      }
    },
    {
      "cell_type": "code",
      "source": [
        "# Mengubah tipe data int menjadi category\n",
        "columns = ['season', 'mnth', 'holiday', 'weekday', 'weathersit']\n",
        "for column in columns:\n",
        "    d_df[column] = d_df[column].astype(\"category\")\n",
        "    h_df[column] = h_df[column].astype(\"category\")"
      ],
      "metadata": {
        "id": "_q3sT3irFRGY"
      },
      "execution_count": 211,
      "outputs": []
    },
    {
      "cell_type": "code",
      "source": [
        "# Mengubah tipe data object menjadi datetime\n",
        "d_df['dteday'] = pd.to_datetime(d_df['dteday'])\n",
        "h_df['dteday'] = pd.to_datetime(h_df['dteday'])"
      ],
      "metadata": {
        "id": "dB89nmIKFT4W"
      },
      "execution_count": 212,
      "outputs": []
    },
    {
      "cell_type": "code",
      "source": [
        "# Mengganti nama kolom agar lebih mudah dibaca\n",
        "d_df.rename(columns={'yr':'year','mnth':'month','weekday':'one_of_week', 'weathersit':'weather_situation',\n",
        "                       'windspeed':'wind_speed','cnt':'count_cr','hum':'humidity'}, inplace=True)\n",
        "h_df.rename(columns={'yr':'year','hr':'hours','mnth':'month','weekday':'one_of_week', 'weathersit':'weather_situation',\n",
        "                        'windspeed':'wind_speed','cnt':'count_cr','hum':'humidity'}, inplace=True)"
      ],
      "metadata": {
        "id": "C0qzCXowFl9x"
      },
      "execution_count": 213,
      "outputs": []
    },
    {
      "cell_type": "markdown",
      "source": [
        "Mengganti nama kolom agar lebih deskriptif dan mudah dipahami."
      ],
      "metadata": {
        "id": "b7Y9h9LWec3A"
      }
    },
    {
      "cell_type": "code",
      "source": [
        "# Mengubah nilai kolom season menjadi nama musim\n",
        "d_df.season.replace((1, 2, 3, 4), ('Spring', 'Summer', 'Fall', 'Winter'), inplace=True)\n",
        "h_df.season.replace((1, 2, 3, 4), ('Spring', 'Summer', 'Fall', 'Winter'), inplace=True)"
      ],
      "metadata": {
        "id": "bljzL2olFviI"
      },
      "execution_count": 214,
      "outputs": []
    },
    {
      "cell_type": "code",
      "source": [
        "# Mengubah nilai kolom month menjadi nama bulan\n",
        "d_df.month.replace(range(1, 13), ('Jan', 'Feb', 'Mar', 'Apr', 'May', 'Jun', 'Jul', 'Aug', 'Sep', 'Oct', 'Nov', 'Dec'), inplace=True)\n",
        "h_df.month.replace(range(1, 13), ('Jan', 'Feb', 'Mar', 'Apr', 'May', 'Jun', 'Jul', 'Aug', 'Sep', 'Oct', 'Nov', 'Dec'), inplace=True)"
      ],
      "metadata": {
        "id": "l_hjmOK0F3ry"
      },
      "execution_count": 215,
      "outputs": []
    },
    {
      "cell_type": "code",
      "source": [
        "# Mengubah nilai kolom weather_situation menjadi deskripsi\n",
        "d_df.weather_situation.replace((1, 2, 3, 4), ('Clear', 'Misty', 'Light_rainsnow', 'Heavy_rainsnow'), inplace=True)\n",
        "h_df.weather_situation.replace((1, 2, 3, 4), ('Clear', 'Misty', 'Light_rainsnow', 'Heavy_rainsnow'), inplace=True)"
      ],
      "metadata": {
        "id": "Cnkvq_o-F6Eu"
      },
      "execution_count": 216,
      "outputs": []
    },
    {
      "cell_type": "code",
      "source": [
        "# Mengubah nilai kolom one_of_week menjadi nama hari\n",
        "d_df.one_of_week.replace(range(7), ('Sunday', 'Monday', 'Tuesday', 'Wednesday', 'Thursday', 'Friday', 'Saturday'), inplace=True)\n",
        "h_df.one_of_week.replace(range(7), ('Sunday', 'Monday', 'Tuesday', 'Wednesday', 'Thursday', 'Friday', 'Saturday'), inplace=True)"
      ],
      "metadata": {
        "id": "yeQnrT26F52I"
      },
      "execution_count": 217,
      "outputs": []
    },
    {
      "cell_type": "code",
      "source": [
        "# Mengubah nilai kolom year menjadi tahun\n",
        "d_df.year.replace((0, 1), ('2011', '2012'), inplace=True)\n",
        "h_df.year.replace((0, 1), ('2011', '2012'), inplace=True)"
      ],
      "metadata": {
        "id": "G0015JvDF5nF"
      },
      "execution_count": 218,
      "outputs": []
    },
    {
      "cell_type": "code",
      "source": [
        "# Menghitung Humidity\n",
        "d_df['humidity'] = d_df['humidity'] * 100\n",
        "h_df['humidity'] = h_df['humidity'] * 100"
      ],
      "metadata": {
        "id": "7itfkkXJGGP9"
      },
      "execution_count": 219,
      "outputs": []
    },
    {
      "cell_type": "code",
      "source": [
        "# Membuat kolom baru \"category_days\" untuk menunjukkan weekday atau weekend\n",
        "def get_category_days(one_of_week):\n",
        "    return \"weekend\" if one_of_week in [\"Saturday\", \"Sunday\"] else \"weekdays\"\n",
        "\n",
        "h_df[\"category_days\"] = h_df[\"one_of_week\"].apply(get_category_days)\n",
        "d_df[\"category_days\"] = d_df[\"one_of_week\"].apply(get_category_days)"
      ],
      "metadata": {
        "id": "FsfrleESGJSO"
      },
      "execution_count": 220,
      "outputs": []
    },
    {
      "cell_type": "code",
      "source": [
        "# Mengkategorikan tingkat kelembaban\n",
        "def classify_humidity(humidity):\n",
        "    if humidity < 45:\n",
        "        return \"Terlalu kering\"\n",
        "    elif 45 <= humidity < 65:\n",
        "        return \"Ideal\"\n",
        "    else:\n",
        "        return \"Terlalu lembab\"\n",
        "\n",
        "h_df[\"humidity_category\"] = h_df[\"humidity\"].apply(classify_humidity)\n",
        "d_df[\"humidity_category\"] = d_df[\"humidity\"].apply(classify_humidity)"
      ],
      "metadata": {
        "id": "1QnuNjNJGJCf"
      },
      "execution_count": 221,
      "outputs": []
    },
    {
      "cell_type": "markdown",
      "source": [
        "\n",
        "*   Mengkonversi kelembaban dari skala 0-1 menjadi persentase (0-100).\n",
        "*   Menambahkan kolom baru untuk mengkategorikan hari menjadi weekday atau weekend.\n",
        "*   Membuat kategori baru berdasarkan nilai kelembaban, misalnya kelembaban rendah, sedang, atau tinggi.\n",
        "\n"
      ],
      "metadata": {
        "id": "UxOjpgVhes0E"
      }
    },
    {
      "cell_type": "markdown",
      "metadata": {
        "id": "gp-Y6wU38DC1"
      },
      "source": [
        "## **Exploratory Data Analysis (EDA)**"
      ]
    },
    {
      "cell_type": "code",
      "execution_count": 222,
      "metadata": {
        "id": "e9CQCZjk8DC2",
        "colab": {
          "base_uri": "https://localhost:8080/"
        },
        "outputId": "9a3af5c9-35a1-4639-f92a-dc807e0ca6f8"
      },
      "outputs": [
        {
          "output_type": "stream",
          "name": "stdout",
          "text": [
            "                     dteday season  year month  holiday one_of_week  \\\n",
            "count                   731    731   731   731    731.0         731   \n",
            "unique                  NaN      4     2    12      2.0           7   \n",
            "top                     NaN   Fall  2012   Jan      0.0      Sunday   \n",
            "freq                    NaN    188   366    62    710.0         105   \n",
            "mean    2012-01-01 00:00:00    NaN   NaN   NaN      NaN         NaN   \n",
            "min     2011-01-01 00:00:00    NaN   NaN   NaN      NaN         NaN   \n",
            "25%     2011-07-02 12:00:00    NaN   NaN   NaN      NaN         NaN   \n",
            "50%     2012-01-01 00:00:00    NaN   NaN   NaN      NaN         NaN   \n",
            "75%     2012-07-01 12:00:00    NaN   NaN   NaN      NaN         NaN   \n",
            "max     2012-12-31 00:00:00    NaN   NaN   NaN      NaN         NaN   \n",
            "std                     NaN    NaN   NaN   NaN      NaN         NaN   \n",
            "\n",
            "       weather_situation        temp       atemp    humidity  wind_speed  \\\n",
            "count                731  731.000000  731.000000  731.000000  731.000000   \n",
            "unique                 3         NaN         NaN         NaN         NaN   \n",
            "top                Clear         NaN         NaN         NaN         NaN   \n",
            "freq                 463         NaN         NaN         NaN         NaN   \n",
            "mean                 NaN    0.495385    0.474354   62.789406    0.190486   \n",
            "min                  NaN    0.059130    0.079070    0.000000    0.022392   \n",
            "25%                  NaN    0.337083    0.337842   52.000000    0.134950   \n",
            "50%                  NaN    0.498333    0.486733   62.666700    0.180975   \n",
            "75%                  NaN    0.655417    0.608602   73.020850    0.233214   \n",
            "max                  NaN    0.861667    0.840896   97.250000    0.507463   \n",
            "std                  NaN    0.183051    0.162961   14.242910    0.077498   \n",
            "\n",
            "             casual   registered     count_cr category_days humidity_category  \n",
            "count    731.000000   731.000000   731.000000           731               731  \n",
            "unique          NaN          NaN          NaN             2                 3  \n",
            "top             NaN          NaN          NaN      weekdays             Ideal  \n",
            "freq            NaN          NaN          NaN           521               334  \n",
            "mean     848.176471  3656.172367  4504.348837           NaN               NaN  \n",
            "min        2.000000    20.000000    22.000000           NaN               NaN  \n",
            "25%      315.500000  2497.000000  3152.000000           NaN               NaN  \n",
            "50%      713.000000  3662.000000  4548.000000           NaN               NaN  \n",
            "75%     1096.000000  4776.500000  5956.000000           NaN               NaN  \n",
            "max     3410.000000  6946.000000  8714.000000           NaN               NaN  \n",
            "std      686.622488  1560.256377  1937.211452           NaN               NaN  \n"
          ]
        }
      ],
      "source": [
        "print(d_df.describe(include=\"all\"))"
      ]
    },
    {
      "cell_type": "markdown",
      "source": [
        "Output:\n",
        "\n",
        "* count: Jumlah nilai non-kosong.\n",
        "* unique: Jumlah nilai unik (hanya untuk data kategorikal).\n",
        "* top: Nilai yang paling sering muncul (kategorikal).\n",
        "* mean: Rata-rata (untuk numerik).\n",
        "* min, max: Nilai minimum dan maksimum.\n",
        "25%, 50%, 75%: Persentil (nilai tengah dari data).\n",
        "\n",
        "Hasil Utama:\n",
        "* Kolom Kategorikal:\n",
        "  * season: Ada 4 musim, dengan Fall paling sering muncul.\n",
        " *  year: Ada dua tahun, dengan 2012 lebih sering muncul.\n",
        "  * holiday: Sebagian besar data adalah hari non-libur.\n",
        "  * one_of_week: Hari Minggu muncul paling sering.\n",
        "\n",
        "\n",
        "* Kolom Numerik:\n",
        "  * temp: Suhu rata-rata adalah 0.495, berkisar dari 0.059 hingga 0.861.\n",
        "  * humidity: Rata-rata kelembaban sekitar 62.79%, dengan maksimum 97.25%.\n",
        "  * wind_speed: Rata-rata kecepatan angin 0.19.\n",
        "  * casual: Rata-rata 848 pengguna tidak terdaftar per hari, dengan maksimum 3.410.\n",
        "  * registered: Rata-rata 3.656 pengguna terdaftar, maksimum 6.946.\n",
        "  * count_cr: Penyewaan sepeda harian rata-rata 4.504, maksimum 8.714."
      ],
      "metadata": {
        "id": "610L83bqgGs2"
      }
    },
    {
      "cell_type": "code",
      "source": [
        "print(h_df.describe(include=\"all\"))"
      ],
      "metadata": {
        "colab": {
          "base_uri": "https://localhost:8080/"
        },
        "id": "XPjniUTdJRug",
        "outputId": "0eb6e78f-6bad-4e14-993d-f23b691ea194"
      },
      "execution_count": 223,
      "outputs": [
        {
          "output_type": "stream",
          "name": "stdout",
          "text": [
            "                               dteday season   year  month         hours  \\\n",
            "count                           17379  17379  17379  17379  17379.000000   \n",
            "unique                            NaN      4      2     12           NaN   \n",
            "top                               NaN   Fall   2012    May           NaN   \n",
            "freq                              NaN   4496   8734   1488           NaN   \n",
            "mean    2012-01-02 04:08:34.552045568    NaN    NaN    NaN     11.546752   \n",
            "min               2011-01-01 00:00:00    NaN    NaN    NaN      0.000000   \n",
            "25%               2011-07-04 00:00:00    NaN    NaN    NaN      6.000000   \n",
            "50%               2012-01-02 00:00:00    NaN    NaN    NaN     12.000000   \n",
            "75%               2012-07-02 00:00:00    NaN    NaN    NaN     18.000000   \n",
            "max               2012-12-31 00:00:00    NaN    NaN    NaN     23.000000   \n",
            "std                               NaN    NaN    NaN    NaN      6.914405   \n",
            "\n",
            "        holiday one_of_week weather_situation          temp         atemp  \\\n",
            "count   17379.0       17379             17379  17379.000000  17379.000000   \n",
            "unique      2.0           7                 4           NaN           NaN   \n",
            "top         0.0    Saturday             Clear           NaN           NaN   \n",
            "freq    16879.0        2512             11413           NaN           NaN   \n",
            "mean        NaN         NaN               NaN      0.496987      0.475775   \n",
            "min         NaN         NaN               NaN      0.020000      0.000000   \n",
            "25%         NaN         NaN               NaN      0.340000      0.333300   \n",
            "50%         NaN         NaN               NaN      0.500000      0.484800   \n",
            "75%         NaN         NaN               NaN      0.660000      0.621200   \n",
            "max         NaN         NaN               NaN      1.000000      1.000000   \n",
            "std         NaN         NaN               NaN      0.192556      0.171850   \n",
            "\n",
            "            humidity    wind_speed        casual    registered      count_cr  \\\n",
            "count   17379.000000  17379.000000  17379.000000  17379.000000  17379.000000   \n",
            "unique           NaN           NaN           NaN           NaN           NaN   \n",
            "top              NaN           NaN           NaN           NaN           NaN   \n",
            "freq             NaN           NaN           NaN           NaN           NaN   \n",
            "mean       62.722884      0.190098     35.676218    153.786869    189.463088   \n",
            "min         0.000000      0.000000      0.000000      0.000000      1.000000   \n",
            "25%        48.000000      0.104500      4.000000     34.000000     40.000000   \n",
            "50%        63.000000      0.194000     17.000000    115.000000    142.000000   \n",
            "75%        78.000000      0.253700     48.000000    220.000000    281.000000   \n",
            "max       100.000000      0.850700    367.000000    886.000000    977.000000   \n",
            "std        19.292983      0.122340     49.305030    151.357286    181.387599   \n",
            "\n",
            "       category_days humidity_category  \n",
            "count          17379             17379  \n",
            "unique             2                 3  \n",
            "top         weekdays    Terlalu lembab  \n",
            "freq           12365              8356  \n",
            "mean             NaN               NaN  \n",
            "min              NaN               NaN  \n",
            "25%              NaN               NaN  \n",
            "50%              NaN               NaN  \n",
            "75%              NaN               NaN  \n",
            "max              NaN               NaN  \n",
            "std              NaN               NaN  \n"
          ]
        }
      ]
    },
    {
      "cell_type": "markdown",
      "source": [
        "Kolom Kategorikal:\n",
        "\n",
        "* season: Ada 4 musim, dan musim Fall muncul paling sering (4.496 kali).\n",
        "* year: Data dibagi antara 2011 dan 2012, dengan tahun 2012 lebih dominan (8.734 kali).\n",
        "* month: Terdapat 12 bulan, dan Mei adalah bulan paling sering muncul (1.488 kali).\n",
        "* holiday: Mayoritas data adalah hari non-libur (16.879 kali).\n",
        "* one_of_week: Sabtu adalah hari yang paling sering muncul (2.512 kali).\n",
        "* weather_situation: Cuaca paling sering adalah Clear (11.413 kali).\n",
        "\n",
        "\n",
        "Kolom Numerik:\n",
        "\n",
        "* hours: Rentang jam mulai dari 0 hingga 23, dengan rata-rata pada pukul 11.54 (hampir tengah hari).\n",
        "* temp (suhu): Suhu rata-rata sekitar 0.497 (berkisar dari 0.02 hingga 1.0).\n",
        "* humidity (kelembaban): Rata-rata kelembaban sekitar 62.72%, dengan maksimum 100%.\n",
        "* wind_speed: Rata-rata kecepatan angin adalah 0.19, dengan maksimum 0.85.\n",
        "* casual: Jumlah rata-rata pengguna kasual per jam adalah 35.67, dengan maksimum 367.\n",
        "* registered: Rata-rata pengguna terdaftar per jam adalah 153.78, dengan maksimum 886.\n",
        "* count_cr: Total rata-rata penyewaan sepeda per jam adalah 189.46, dengan maksimum 977.\n",
        "\n",
        "\n",
        "Kolom Tambahan:\n",
        "\n",
        "* category_days: Ada dua kategori hari, dengan weekdays muncul lebih sering (12.365 kali).\n",
        "* humidity_category: Kategori kelembaban menunjukkan kelembaban terlalu lembab muncul paling sering (8.356 kali)."
      ],
      "metadata": {
        "id": "h2TUnPSkgy0K"
      }
    },
    {
      "cell_type": "code",
      "source": [
        "# Jumlah Penyewaan per Musim\n",
        "seasonal_rentals = d_df.groupby(\"season\").agg({\"count_cr\": \"sum\"}).reset_index()\n",
        "seasonal_rentals = seasonal_rentals.sort_values(by=\"count_cr\", ascending=False)\n",
        "print(\"Jumlah Penyewaan per Musim:\\n\", seasonal_rentals)"
      ],
      "metadata": {
        "colab": {
          "base_uri": "https://localhost:8080/"
        },
        "id": "ojjmdYyjL_PQ",
        "outputId": "0524513f-e984-4e8f-ed48-9a976ab7b5d7"
      },
      "execution_count": 224,
      "outputs": [
        {
          "output_type": "stream",
          "name": "stdout",
          "text": [
            "Jumlah Penyewaan per Musim:\n",
            "    season  count_cr\n",
            "2    Fall   1061129\n",
            "1  Summer    918589\n",
            "3  Winter    841613\n",
            "0  Spring    471348\n"
          ]
        }
      ]
    },
    {
      "cell_type": "markdown",
      "source": [
        "Musim dengan total penyewaan terbanyak adalah Fall (1.061.129 penyewaan), disusul oleh Summer (918.589 penyewaan). Spring memiliki jumlah penyewaan paling sedikit (471.348 penyewaan). Ini menunjukkan bahwa penyewaan sepeda cenderung lebih populer pada musim gugur dan musim panas."
      ],
      "metadata": {
        "id": "m9Cve5D6iGjn"
      }
    },
    {
      "cell_type": "code",
      "source": [
        "# Jumlah Penyewaan per Tahun berdasarkan Registered dan Casual\n",
        "yearly_usage = d_df.groupby(\"year\").agg({\n",
        "    \"registered\": [\"sum\"],\n",
        "    \"casual\": [\"sum\"]\n",
        "}).reset_index()\n",
        "print(\"Jumlah Penyewaan per Tahun:\\n\", yearly_usage)"
      ],
      "metadata": {
        "colab": {
          "base_uri": "https://localhost:8080/"
        },
        "id": "JrGI7HyvL_Bl",
        "outputId": "af6df2e7-83c6-4dbb-ea15-01341aca817a"
      },
      "execution_count": 225,
      "outputs": [
        {
          "output_type": "stream",
          "name": "stdout",
          "text": [
            "Jumlah Penyewaan per Tahun:\n",
            "    year registered  casual\n",
            "               sum     sum\n",
            "0  2011     995851  247252\n",
            "1  2012    1676811  372765\n"
          ]
        }
      ]
    },
    {
      "cell_type": "markdown",
      "source": [
        "* Pada tahun 2011, total penyewaan oleh pengguna terdaftar adalah 995.851, sedangkan oleh pengguna kasual adalah 247.252.\n",
        "\n",
        "* Pada tahun 2012, terjadi peningkatan dengan total penyewaan oleh pengguna terdaftar sebesar 1.676.811, dan oleh pengguna kasual sebesar 372.765.\n",
        "Tahun 2012 memiliki peningkatan yang signifikan baik untuk penyewaan pengguna terdaftar maupun kasual dibandingkan tahun 2011."
      ],
      "metadata": {
        "id": "HwUc0vP-i-Cz"
      }
    },
    {
      "cell_type": "markdown",
      "source": [],
      "metadata": {
        "id": "NdfMXBb2i97w"
      }
    },
    {
      "cell_type": "code",
      "source": [
        "# Jumlah Penyewaan per Bulan\n",
        "monthly_usage = d_df.groupby(\"month\").agg({\"count_cr\": \"sum\"}).reset_index()\n",
        "monthly_usage = monthly_usage.sort_values(by=\"month\")\n",
        "print(\"Jumlah Penyewaan per Bulan:\\n\", monthly_usage)"
      ],
      "metadata": {
        "colab": {
          "base_uri": "https://localhost:8080/"
        },
        "id": "AqxHPBU9L-2L",
        "outputId": "2f4aa3db-ab10-4655-977c-26e2e11dbca3"
      },
      "execution_count": 226,
      "outputs": [
        {
          "output_type": "stream",
          "name": "stdout",
          "text": [
            "Jumlah Penyewaan per Bulan:\n",
            "    month  count_cr\n",
            "0    Jan    134933\n",
            "1    Feb    151352\n",
            "2    Mar    228920\n",
            "3    Apr    269094\n",
            "4    May    331686\n",
            "5    Jun    346342\n",
            "6    Jul    344948\n",
            "7    Aug    351194\n",
            "8    Sep    345991\n",
            "9    Oct    322352\n",
            "10   Nov    254831\n",
            "11   Dec    211036\n"
          ]
        }
      ]
    },
    {
      "cell_type": "markdown",
      "source": [
        "* Penyewaan sepeda meningkat secara signifikan selama bulan Mei hingga September, dengan puncaknya pada bulan Agustus (351.194 penyewaan).\n",
        "\n",
        "* Januari dan Februari memiliki jumlah penyewaan paling sedikit, yaitu 134.933 dan 151.352 penyewaan, kemungkinan karena cuaca yang lebih dingin.\n"
      ],
      "metadata": {
        "id": "QSJIiGD1jHg4"
      }
    },
    {
      "cell_type": "markdown",
      "metadata": {
        "id": "zsyZjqak8DC2"
      },
      "source": [
        "## **Visualization & Explanatory Analysis**"
      ]
    },
    {
      "cell_type": "markdown",
      "metadata": {
        "id": "HZxOiQ6n8DC2"
      },
      "source": [
        "### **Pertanyaan 1:  Bagaimana pengaruh faktor cuaca terhadap jumlah pengguna bike sharing?**"
      ]
    },
    {
      "cell_type": "code",
      "execution_count": 227,
      "metadata": {
        "id": "1swJUdAD8DC2",
        "colab": {
          "base_uri": "https://localhost:8080/"
        },
        "outputId": "2040bf20-6ba2-4412-b0f6-eee66415e4ae"
      },
      "outputs": [
        {
          "output_type": "stream",
          "name": "stdout",
          "text": [
            "Total Penyewaan per Situasi Cuaca:\n",
            "   weather_situation  count_cr\n",
            "0             Clear   2338173\n",
            "1             Misty    795952\n",
            "2    Light_rainsnow    158331\n",
            "3    Heavy_rainsnow       223\n"
          ]
        }
      ],
      "source": [
        "# Pertanyaan 1\n",
        "weather_usage = h_df.groupby(\"weather_situation\").agg({\"count_cr\": \"sum\"}).reset_index()\n",
        "print(\"Total Penyewaan per Situasi Cuaca:\\n\", weather_usage)"
      ]
    },
    {
      "cell_type": "code",
      "source": [
        "# Visualisasi pertanyaan 1\n",
        "colors = [\"#90CAF9\", \"#D3D3D3\", \"#D3D3D3\", \"#D3D3D3\"]\n",
        "plt.figure(figsize=(10, 6))\n",
        "sns.barplot(x='weather_situation', y='count_cr', data=weather_usage, palette=colors)\n",
        "plt.title('Pengaruh Cuaca Terhadap Jumlah Pengguna Bike Sharing', fontsize=16)\n",
        "plt.xlabel('Situasi Cuaca')\n",
        "plt.ylabel('Jumlah Penyewaan')\n",
        "plt.show()"
      ],
      "metadata": {
        "colab": {
          "base_uri": "https://localhost:8080/",
          "height": 559
        },
        "id": "ma6ae09xP8mg",
        "outputId": "c02c4367-b4d8-4fcc-e855-40c60d8c9569"
      },
      "execution_count": 242,
      "outputs": [
        {
          "output_type": "display_data",
          "data": {
            "text/plain": [
              "<Figure size 1000x600 with 1 Axes>"
            ],
            "image/png": "[encoded data removed]"
          },
          "metadata": {}
        }
      ]
    },
    {
      "cell_type": "markdown",
      "source": [
        "Keterangan Output :\n",
        "\n",
        "* Cuaca Cerah (Clear): Total penyewaan sepeda tertinggi terjadi ketika cuaca cerah, yaitu sebesar 2.338.173 penyewaan. Ini menunjukkan bahwa pengguna lebih memilih untuk menggunakan sepeda saat cuaca mendukung, seperti pada hari yang cerah.\n",
        "\n",
        "* Cuaca Berkabut (Misty): Penyewaan sepeda menurun secara signifikan saat cuaca berkabut, dengan total 795.952 penyewaan. Meskipun berkabut, ini masih merupakan cuaca yang relatif tidak terlalu ekstrem, sehingga masih ada banyak pengguna yang tetap menggunakan sepeda.\n",
        "\n",
        "* Hujan atau Salju Ringan (Light Rain/Snow): Pada kondisi hujan atau salju ringan, jumlah penyewaan turun drastis menjadi 158.331. Ini menunjukkan bahwa kondisi hujan atau salju ringan sudah cukup untuk mengurangi minat pengguna dalam menyewa sepeda.\n",
        "\n",
        "* Hujan atau Salju Lebat (Heavy Rain/Snow): Kondisi cuaca ekstrem seperti hujan atau salju lebat hampir menghilangkan aktivitas penyewaan sepeda, dengan hanya 223 penyewaan yang tercatat. Ini sangat wajar karena kondisi tersebut membuat bersepeda menjadi tidak nyaman atau bahkan berbahaya.\n"
      ],
      "metadata": {
        "id": "BtVdkFmYjvm4"
      }
    },
    {
      "cell_type": "markdown",
      "metadata": {
        "id": "DgHI7CiU8DC2"
      },
      "source": [
        "### **Pertanyaan 2: Pada jam berapa penggunaan bike sharing paling tinggi dalam sehari?**"
      ]
    },
    {
      "cell_type": "code",
      "execution_count": 229,
      "metadata": {
        "id": "Go0lCsvO8DC2",
        "colab": {
          "base_uri": "https://localhost:8080/"
        },
        "outputId": "84bad086-8d02-4fa1-bb46-24f0b6e830d1"
      },
      "outputs": [
        {
          "output_type": "stream",
          "name": "stdout",
          "text": [
            "Total Penyewaan per Jam:\n",
            "     hours  count_cr\n",
            "0       0     39130\n",
            "1       1     24164\n",
            "2       2     16352\n",
            "3       3      8174\n",
            "4       4      4428\n",
            "5       5     14261\n",
            "6       6     55132\n",
            "7       7    154171\n",
            "8       8    261001\n",
            "9       9    159438\n",
            "10     10    126257\n",
            "11     11    151320\n",
            "12     12    184414\n",
            "13     13    184919\n",
            "14     14    175652\n",
            "15     15    183149\n",
            "16     16    227748\n",
            "17     17    336860\n",
            "18     18    309772\n",
            "19     19    226789\n",
            "20     20    164550\n",
            "21     21    125445\n",
            "22     22     95612\n",
            "23     23     63941\n"
          ]
        }
      ],
      "source": [
        "# Pertanyaan 2\n",
        "hourly_usage = h_df.groupby(\"hours\").agg({\"count_cr\": \"sum\"}).reset_index()\n",
        "print(\"Total Penyewaan per Jam:\\n\", hourly_usage)"
      ]
    },
    {
      "cell_type": "code",
      "source": [
        "# Visualisasi Pertanyaan 2\n",
        "plt.figure(figsize=(10, 6))\n",
        "sns.barplot(x='hours', y='count_cr', data=hourly_usage, palette=\"Blues_d\")\n",
        "plt.title('Penggunaan Bike Sharing Berdasarkan Jam', fontsize=16)\n",
        "plt.xlabel('Jam (24-hour format)')\n",
        "plt.ylabel('Jumlah Penyewaan')\n",
        "plt.show()"
      ],
      "metadata": {
        "colab": {
          "base_uri": "https://localhost:8080/",
          "height": 540
        },
        "id": "GMJ8OeHkQUX-",
        "outputId": "8984555e-91de-440f-c390-aacca1c96173"
      },
      "execution_count": 230,
      "outputs": [
        {
          "output_type": "display_data",
          "data": {
            "text/plain": [
              "<Figure size 1000x600 with 1 Axes>"
            ],
            "image/png": "[encoded data removed]"
          },
          "metadata": {}
        }
      ]
    },
    {
      "cell_type": "markdown",
      "source": [
        "Keterangan Output:\n",
        "\n",
        "* Puncak tertinggi terjadi pada pukul 17.00 (336.860 penyewaan), yang menunjukkan banyak orang menyewa sepeda saat pulang kerja.\n",
        "* Pukul 08.00 (261.001 penyewaan) juga memiliki penggunaan tinggi, mungkin karena banyak yang menyewa sepeda untuk berangkat kerja atau aktivitas pagi.\n",
        "* Waktu penggunaan yang signifikan lainnya adalah pukul 12.00 (184.414), kemungkinan terkait dengan jam istirahat makan siang.\n",
        "\n",
        "\n",
        "Kesimpulan:\n",
        "\n",
        "Penggunaan bike sharing paling tinggi terjadi pada jam sibuk, seperti pukul 08.00 dan 17.00, menunjukkan bahwa banyak orang menggunakan sepeda untuk perjalanan kerja.\n",
        "\n"
      ],
      "metadata": {
        "id": "hMoA2t92kw-k"
      }
    },
    {
      "cell_type": "markdown",
      "source": [
        "### **Pertanyaan 3: Bagaimana tren penggunaan bike sharing berdasarkan hari dalam seminggu?**"
      ],
      "metadata": {
        "id": "_RWN_fAKH25o"
      }
    },
    {
      "cell_type": "code",
      "source": [
        "# Pertanyaan 3\n",
        "weekly_usage = h_df.groupby(\"one_of_week\").agg({\"count_cr\": \"sum\"}).reset_index()\n",
        "print(\"Total Penyewaan per Hari dalam Seminggu:\\n\", weekly_usage)"
      ],
      "metadata": {
        "colab": {
          "base_uri": "https://localhost:8080/"
        },
        "id": "JjsK3zocH9iJ",
        "outputId": "6025f478-4e2e-4abc-8709-29b4860cd02d"
      },
      "execution_count": 231,
      "outputs": [
        {
          "output_type": "stream",
          "name": "stdout",
          "text": [
            "Total Penyewaan per Hari dalam Seminggu:\n",
            "   one_of_week  count_cr\n",
            "0      Sunday    444027\n",
            "1      Monday    455503\n",
            "2     Tuesday    469109\n",
            "3   Wednesday    473048\n",
            "4    Thursday    485395\n",
            "5      Friday    487790\n",
            "6    Saturday    477807\n"
          ]
        }
      ]
    },
    {
      "cell_type": "code",
      "source": [
        "# Visualisasi Pertanyaan 3\n",
        "colors = [\"#90CAF9\", \"#D3D3D3\", \"#D3D3D3\", \"#D3D3D3\", \"#D3D3D3\", \"#90CAF9\", \"#D3D3D3\"]\n",
        "plt.figure(figsize=(10, 6))\n",
        "sns.barplot(x='one_of_week', y='count_cr', data=weekly_usage, palette=colors)\n",
        "plt.title('Tren Penggunaan Bike Sharing Berdasarkan Hari dalam Seminggu', fontsize=16)\n",
        "plt.xlabel('Hari dalam Seminggu')\n",
        "plt.ylabel('Jumlah Penyewaan')\n",
        "plt.show()"
      ],
      "metadata": {
        "colab": {
          "base_uri": "https://localhost:8080/",
          "height": 540
        },
        "id": "9L4JJxlUQdf3",
        "outputId": "b2d4182d-60b0-4443-83bf-8cab1337b7e0"
      },
      "execution_count": 232,
      "outputs": [
        {
          "output_type": "display_data",
          "data": {
            "text/plain": [
              "<Figure size 1000x600 with 1 Axes>"
            ],
            "image/png": "[encoded data removed]"
          },
          "metadata": {}
        }
      ]
    },
    {
      "cell_type": "markdown",
      "source": [
        "Keterangan Output:\n",
        "\n",
        "* Penggunaan tertinggi terjadi pada hari Jumat (487.790 penyewaan), diikuti oleh Kamis dan Sabtu.\n",
        "* Hari Minggu (444.027) memiliki penggunaan paling rendah, mungkin karena hari libur."
      ],
      "metadata": {
        "id": "NnIvOGI3lA1p"
      }
    },
    {
      "cell_type": "markdown",
      "source": [
        "### **Pertanyaan 4: Apakah terdapat perbedaan penggunaan bike sharing pada musim panas dibandingkan musim dingin?**"
      ],
      "metadata": {
        "id": "Vxosf2jpH-O3"
      }
    },
    {
      "cell_type": "code",
      "source": [
        "# Pertanyaan 4\n",
        "seasonal_usage = d_df.groupby(\"season\").agg({\"count_cr\": \"sum\"}).reset_index()\n",
        "print(\"Total Penyewaan per Musim:\\n\", seasonal_usage)"
      ],
      "metadata": {
        "colab": {
          "base_uri": "https://localhost:8080/"
        },
        "id": "7q3b6vWeIClB",
        "outputId": "8a4b466f-1f18-4d5e-ddad-80cf1cdae6f3"
      },
      "execution_count": 233,
      "outputs": [
        {
          "output_type": "stream",
          "name": "stdout",
          "text": [
            "Total Penyewaan per Musim:\n",
            "    season  count_cr\n",
            "0  Spring    471348\n",
            "1  Summer    918589\n",
            "2    Fall   1061129\n",
            "3  Winter    841613\n"
          ]
        }
      ]
    },
    {
      "cell_type": "code",
      "source": [
        "# Visualisasi Pertanyaan 4\n",
        "colors = [\"#D3D3D3\", \"#D3D3D3\", \"#90CAF9\", \"#D3D3D3\"]\n",
        "plt.figure(figsize=(10, 6))\n",
        "sns.barplot(x='season', y='count_cr', data=seasonal_usage, palette=colors)\n",
        "plt.title('Perbandingan Penggunaan Bike Sharing Berdasarkan Musim', fontsize=16)\n",
        "plt.xlabel('Musim')\n",
        "plt.ylabel('Jumlah Penyewaan')\n",
        "plt.show()"
      ],
      "metadata": {
        "colab": {
          "base_uri": "https://localhost:8080/",
          "height": 559
        },
        "id": "-RAgSp4-QlaS",
        "outputId": "ed78cb04-bbe5-481b-a612-0ac7d51cd413"
      },
      "execution_count": 234,
      "outputs": [
        {
          "output_type": "display_data",
          "data": {
            "text/plain": [
              "<Figure size 1000x600 with 1 Axes>"
            ],
            "image/png": "[encoded data removed]"
          },
          "metadata": {}
        }
      ]
    },
    {
      "cell_type": "markdown",
      "source": [
        "Keterangan:\n",
        "\n",
        "* Penggunaan tertinggi terjadi pada musim gugur (Fall), dengan 1.061.129 penyewaan.\n",
        "* Musim panas (Summer) juga cukup tinggi dengan 918.589 penyewaan.\n",
        "* Musim dingin (Winter) memiliki penyewaan yang lebih rendah dibandingkan musim panas, yaitu 841.613 penyewaan, namun masih lebih tinggi daripada musim semi."
      ],
      "metadata": {
        "id": "_0-36BDLklRg"
      }
    },
    {
      "cell_type": "markdown",
      "source": [
        "## Kesimpulan"
      ],
      "metadata": {
        "id": "tq-ZlPrTrC0x"
      }
    },
    {
      "cell_type": "markdown",
      "source": [
        "\n",
        "*   Kesimpulan pertanyaan 1 :\n",
        "Faktor cuaca memiliki pengaruh yang sangat besar terhadap jumlah pengguna layanan bike sharing. Pengguna cenderung lebih aktif menyewa sepeda saat cuaca cerah, dan sebaliknya, aktivitas penyewaan menurun drastis ketika cuaca buruk seperti hujan atau salju lebat. Dengan memahami pola ini, pengelola layanan bike sharing bisa lebih baik dalam merencanakan ketersediaan sepeda, misalnya dengan mengurangi sepeda di hari-hari cuaca buruk dan memaksimalkan layanan saat cuaca cerah.\n",
        "\n",
        "*   Kesimpulan pertanyaan 2 :\n",
        "Penggunaan bike sharing lebih tinggi selama hari kerja, terutama di akhir pekan Jumat dan Sabtu, dan lebih rendah pada hari Minggu.\n",
        "\n",
        "*   Kesimpulan pertanyaan 3 :\n",
        "Penggunaan bike sharing lebih tinggi selama hari kerja, terutama di akhir pekan Jumat dan Sabtu, dan lebih rendah pada hari Minggu.\n",
        "\n",
        "*   Kesimpulan pertanyaan 4 :\n",
        "Ada perbedaan yang jelas dalam penggunaan bike sharing antara musim panas dan musim dingin. Meskipun musim dingin masih digunakan, jumlah penyewaan lebih tinggi pada musim panas dan gugur, saat cuaca lebih bersahabat untuk bersepeda."
      ],
      "metadata": {
        "id": "ch_z9XPaqkoR"
      }
    },
    {
      "cell_type": "markdown",
      "source": [
        "## **Analisis Lanjutan Clustering (Manual Grouping dan Binning)**\n",
        "\n",
        "\n",
        "\n"
      ],
      "metadata": {
        "id": "9y4VUsmcYNZ5"
      }
    },
    {
      "cell_type": "markdown",
      "source": [
        "Saya menggunakan clustering melalui manual grouping dan binning karena beberapa alasan sebagai berikut :\n",
        "\n",
        "* Metode ini lebih sederhana dan langsung untuk menganalisis pola penyewaan berdasarkan jumlah.\n",
        "* Fokus pada jumlah penyewaan sepeda lebih relevan untuk analisis ini daripada lokasi (geospatial analysis) atau perilaku pelanggan (RFM).\n",
        "* Hasil yang dihasilkan lebih mudah dipahami dan diinterpretasikan, membantu dalam membuat keputusan yang lebih cepat."
      ],
      "metadata": {
        "id": "bn2ooX8jnYA2"
      }
    },
    {
      "cell_type": "code",
      "source": [
        "# Mengelompokkan penyewaan berdasarkan jumlah penyewaan (count_cr)\n",
        "def categorize_usage(count):\n",
        "    if count < 20:\n",
        "        return \"Rendah\"\n",
        "    elif 20 <= count < 50:\n",
        "        return \"Sedang\"\n",
        "    else:\n",
        "        return \"Tinggi\""
      ],
      "metadata": {
        "id": "iWhnzsJGYUCO"
      },
      "execution_count": 235,
      "outputs": []
    },
    {
      "cell_type": "code",
      "source": [
        "# Menggunakan manual grouping untuk h_df\n",
        "h_df['usage_category'] = h_df['count_cr'].apply(categorize_usage)"
      ],
      "metadata": {
        "id": "Ww5vWfVpI-3F"
      },
      "execution_count": 236,
      "outputs": []
    },
    {
      "cell_type": "markdown",
      "source": [
        "Membuat fungsi categorize_usage untuk mengelompokkan data penyewaan sepeda berdasarkan nilai penyewaan (count_cr)."
      ],
      "metadata": {
        "id": "NeCnZKE5mjI6"
      }
    },
    {
      "cell_type": "code",
      "source": [
        "# Melihat distribusi kategori penyewaan\n",
        "usage_distribution = h_df['usage_category'].value_counts().reset_index()\n",
        "usage_distribution.columns = ['Usage Category', 'Count']\n",
        "print(\"Distribusi Kategori Penyewaan:\\n\", usage_distribution)"
      ],
      "metadata": {
        "colab": {
          "base_uri": "https://localhost:8080/"
        },
        "id": "Yt5vUZccI-Wu",
        "outputId": "8777603d-cdfd-4777-f34a-40db9ae4e033"
      },
      "execution_count": 237,
      "outputs": [
        {
          "output_type": "stream",
          "name": "stdout",
          "text": [
            "Distribusi Kategori Penyewaan:\n",
            "   Usage Category  Count\n",
            "0         Tinggi  12558\n",
            "1         Rendah   2903\n",
            "2         Sedang   1918\n"
          ]
        }
      ]
    },
    {
      "cell_type": "markdown",
      "source": [
        "Keterangan Output :\n",
        "\n",
        "* Penyewaan tertinggi berada pada kategori \"Tinggi\" (lebih dari 50 penyewaan) sebanyak 12.558 kali.\n",
        "* Kategori \"Rendah\" (kurang dari 20 penyewaan) terjadi sebanyak 2.903 kali.\n",
        "* Kategori \"Sedang\" (20-50 penyewaan) terjadi sebanyak 1.918 kali."
      ],
      "metadata": {
        "id": "RXppYkEJmqDH"
      }
    },
    {
      "cell_type": "code",
      "source": [
        "# Visualisasi distribusi kategori penyewaan\n",
        "plt.figure(figsize=(10, 6))\n",
        "sns.barplot(x='Usage Category', y='Count', data=usage_distribution, palette=\"Blues_d\")\n",
        "plt.title('Distribusi Kategori Penyewaan', fontsize=16)\n",
        "plt.xlabel('Kategori Penyewaan')\n",
        "plt.ylabel('Jumlah Penyewaan')\n",
        "plt.show()"
      ],
      "metadata": {
        "colab": {
          "base_uri": "https://localhost:8080/",
          "height": 545
        },
        "id": "vzw570mUPic8",
        "outputId": "0a22a0d0-c22c-4179-9ca5-4a4511685d9a"
      },
      "execution_count": 238,
      "outputs": [
        {
          "output_type": "display_data",
          "data": {
            "text/plain": [
              "<Figure size 1000x600 with 1 Axes>"
            ],
            "image/png": "[encoded data removed]"
          },
          "metadata": {}
        }
      ]
    },
    {
      "cell_type": "code",
      "source": [
        "# Binning untuk clustering berdasarkan count_cr\n",
        "bins = [0, 20, 50, 100, np.inf]\n",
        "labels = ['Rendah', 'Sedang', 'Tinggi', 'Sangat Tinggi']\n",
        "h_df['clustering'] = pd.cut(h_df['count_cr'], bins=bins, labels=labels)"
      ],
      "metadata": {
        "id": "wWmNHA3KJEDt"
      },
      "execution_count": 239,
      "outputs": []
    },
    {
      "cell_type": "markdown",
      "source": [
        " Menggunakan teknik binning untuk membagi jumlah penyewaan (count_cr) ke dalam 4 kelompok berdasarkan nilai count_cr dengan label berikut:\n",
        "\n",
        "* Rendah: Di bawah 20 penyewaan.\n",
        "* Sedang: 20 hingga 50 penyewaan.\n",
        "* Tinggi: 50 hingga 100 penyewaan.\n",
        "* Sangat Tinggi: Di atas 100 penyewaan. Teknik ini mempermudah kita melihat distribusi data dalam kluster yang lebih terperinci."
      ],
      "metadata": {
        "id": "hP1T3LnTnr8E"
      }
    },
    {
      "cell_type": "code",
      "source": [
        "# Melihat distribusi clustering\n",
        "clustering_distribution = h_df['clustering'].value_counts().reset_index()\n",
        "clustering_distribution.columns = ['Clustering', 'Count']\n",
        "print(\"Distribusi Clustering Berdasarkan Jumlah Penyewaan:\\n\", clustering_distribution)"
      ],
      "metadata": {
        "colab": {
          "base_uri": "https://localhost:8080/"
        },
        "id": "z2s79b0bJD3S",
        "outputId": "c3a310b4-4bfc-4527-f621-8389e8984c78"
      },
      "execution_count": 240,
      "outputs": [
        {
          "output_type": "stream",
          "name": "stdout",
          "text": [
            "Distribusi Clustering Berdasarkan Jumlah Penyewaan:\n",
            "       Clustering  Count\n",
            "0  Sangat Tinggi  10344\n",
            "1         Rendah   2994\n",
            "2         Tinggi   2159\n",
            "3         Sedang   1882\n"
          ]
        }
      ]
    },
    {
      "cell_type": "markdown",
      "source": [
        "Dari hasil output ini, dapat dilihat distribusi data penyewaan berdasarkan kluster:\n",
        "* Sangat Tinggi: 10.344 penyewaan terjadi lebih dari 100 kali dalam satu waktu.\n",
        "* Rendah: 2.994 penyewaan terjadi kurang dari 20 kali.\n",
        "* Tinggi: 2.159 penyewaan terjadi antara 50 hingga 100 kali.\n",
        "* Sedang: 1.882 penyewaan terjadi antara 20 hingga 50 kali.\n"
      ],
      "metadata": {
        "id": "nvXbrOtBn1WG"
      }
    },
    {
      "cell_type": "code",
      "source": [
        "# Visualisasi distribusi clustering\n",
        "plt.figure(figsize=(10, 6))\n",
        "sns.barplot(x='Clustering', y='Count', data=clustering_distribution, palette=\"Blues_d\")\n",
        "plt.title('Distribusi Clustering Berdasarkan Jumlah Penyewaan', fontsize=16)\n",
        "plt.xlabel('Kategori Clustering')\n",
        "plt.ylabel('Jumlah Penyewaan')\n",
        "plt.show()"
      ],
      "metadata": {
        "colab": {
          "base_uri": "https://localhost:8080/",
          "height": 545
        },
        "id": "mzYnfpjTPtdK",
        "outputId": "4b9383a9-a1e5-49d2-9243-d04cca082544"
      },
      "execution_count": 241,
      "outputs": [
        {
          "output_type": "display_data",
          "data": {
            "text/plain": [
              "<Figure size 1000x600 with 1 Axes>"
            ],
            "image/png": "[encoded data removed]"
          },
          "metadata": {}
        }
      ]
    },
    {
      "cell_type": "markdown",
      "source": [
        "Kesimpulan dari Analisis Lanjutan :\n",
        "\n",
        "* Manual Grouping:\n",
        "\n",
        "  * Dengan menggunakan categorize_usage, saya bisa mengelompokkan data penyewaan secara sederhana ke dalam tiga kategori. Hasilnya menunjukkan bahwa sebagian besar penyewaan berada dalam kategori \"Tinggi,\" yang berarti ada cukup banyak periode waktu dengan jumlah penyewaan yang tinggi.\n",
        "\n",
        "* Clustering dengan Binning:\n",
        "\n",
        "  * Binning yang lebih rinci menunjukkan bahwa penyewaan dalam kategori \"Sangat Tinggi\" sangat dominan, mencerminkan bahwa pada banyak waktu, jumlah penyewaan melebihi 100 kali dalam satu jam.\n",
        "\n",
        "* Pemanfaatan Teknik Clustering dan Binning:\n",
        "\n",
        "  * Teknik clustering dan binning memberikan pemahaman yang lebih baik mengenai distribusi penyewaan. Ini membantu dalam analisis tren dan pola penggunaan yang bisa diterapkan untuk pengambilan keputusan, seperti pengaturan sumber daya dan perencanaan layanan bike sharing di masa mendatang."
      ],
      "metadata": {
        "id": "Fdxx6e9QoBv3"
      }
    },
    {
      "cell_type": "markdown",
      "source": [
        "**Kesimpulan Keseluruhan Analisis**\n",
        "\n",
        "Berikut adalah kesimpulan dari keseluruhan analisis yang dilakukan:\n",
        "\n",
        "\n",
        "\n",
        "1.   Pengaruh Faktor Cuaca: Data menunjukkan bahwa cuaca memiliki dampak signifikan terhadap jumlah penyewaan bike sharing, dengan kondisi cuaca yang cerah menghasilkan penyewaan tertinggi.\n",
        "\n",
        "2.   Penggunaan Harian: Analisis menunjukkan bahwa penggunaan bike sharing paling tinggi terjadi antara pukul 17.00 dan 18.00, yang menunjukkan kebiasaan pengguna saat pulang kerja.\n",
        "\n",
        "3.   Tren Mingguan: Penggunaan bike sharing cenderung meningkat selama hari kerja, terutama pada hari Jumat dan Kamis, dibandingkan dengan akhir pekan.\n",
        "\n",
        "4.   Musiman: Musim panas menunjukkan jumlah penyewaan yang jauh lebih tinggi dibandingkan dengan musim dingin, menunjukkan preferensi pengguna untuk bersepeda pada cuaca yang lebih hangat.\n",
        "\n",
        "5.   Clustering: Penggunaan metode manual grouping dan binning memungkinkan pengelompokan yang jelas berdasarkan jumlah penyewaan, membantu dalam identifikasi pola penggunaan dan memudahkan analisis lebih lanjut.\n",
        "\n",
        "Secara keseluruhan, analisis ini memberikan wawasan yang berharga mengenai pola penyewaan bike sharing dan faktor-faktor yang mempengaruhi penggunaannya, yang dapat digunakan untuk meningkatkan layanan dan strategi pemasaran di masa depan."
      ],
      "metadata": {
        "id": "kBZyZn75oocU"
      }
    }
  ],
  "metadata": {
    "kernelspec": {
      "display_name": "Python 3",
      "language": "python",
      "name": "python3"
    },
    "language_info": {
      "name": "python",
      "version": "3.8.0 (tags/v3.8.0:fa919fd, Oct 14 2019, 19:21:23) [MSC v.1916 32 bit (Intel)]"
    },
    "orig_nbformat": 4,
    "vscode": {
      "interpreter": {
        "hash": "972b3bf27e332e87b5379f2791f6ef9dfc79c71018c370b0d7423235e20fe4d7"
      }
    },
    "colab": {
      "provenance": []
    }
  },
  "nbformat": 4,
  "nbformat_minor": 0
}